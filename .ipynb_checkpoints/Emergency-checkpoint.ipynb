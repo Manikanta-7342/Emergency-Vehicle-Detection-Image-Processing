{
 "cells": [
  {
   "cell_type": "code",
   "execution_count": 2,
   "id": "efa19f0d",
   "metadata": {},
   "outputs": [
    {
     "ename": "ImportError",
     "evalue": "cannot import name 'string_int_label_map_pb2' from 'object_detection.protos' (C:\\Users\\manik\\AppData\\Local\\Programs\\Python\\Python310\\lib\\site-packages\\object_detection\\protos\\__init__.py)",
     "output_type": "error",
     "traceback": [
      "\u001b[1;31m---------------------------------------------------------------------------\u001b[0m",
      "\u001b[1;31mImportError\u001b[0m                               Traceback (most recent call last)",
      "Cell \u001b[1;32mIn [2], line 12\u001b[0m\n\u001b[0;32m      8\u001b[0m sess \u001b[38;5;241m=\u001b[39m tf\u001b[38;5;241m.\u001b[39mcompat\u001b[38;5;241m.\u001b[39mv1\u001b[38;5;241m.\u001b[39mSession(config\u001b[38;5;241m=\u001b[39mtf\u001b[38;5;241m.\u001b[39mcompat\u001b[38;5;241m.\u001b[39mv1\u001b[38;5;241m.\u001b[39mConfigProto(gpu_options\u001b[38;5;241m=\u001b[39mgpu_options))\n\u001b[0;32m     11\u001b[0m \u001b[38;5;66;03m# Import utilites \u001b[39;00m\n\u001b[1;32m---> 12\u001b[0m \u001b[38;5;28;01mfrom\u001b[39;00m \u001b[38;5;21;01mobject_detection\u001b[39;00m\u001b[38;5;21;01m.\u001b[39;00m\u001b[38;5;21;01mutils\u001b[39;00m \u001b[38;5;28;01mimport\u001b[39;00m label_map_util \n\u001b[0;32m     13\u001b[0m \u001b[38;5;28;01mfrom\u001b[39;00m \u001b[38;5;21;01mobject_detection\u001b[39;00m\u001b[38;5;21;01m.\u001b[39;00m\u001b[38;5;21;01mutils\u001b[39;00m \u001b[38;5;28;01mimport\u001b[39;00m visualization_utils \u001b[38;5;28;01mas\u001b[39;00m vis_util\n",
      "File \u001b[1;32m~\\AppData\\Local\\Programs\\Python\\Python310\\lib\\site-packages\\object_detection\\utils\\label_map_util.py:21\u001b[0m\n\u001b[0;32m     19\u001b[0m \u001b[38;5;28;01mimport\u001b[39;00m \u001b[38;5;21;01mtensorflow\u001b[39;00m \u001b[38;5;28;01mas\u001b[39;00m \u001b[38;5;21;01mtf\u001b[39;00m\n\u001b[0;32m     20\u001b[0m \u001b[38;5;28;01mfrom\u001b[39;00m \u001b[38;5;21;01mgoogle\u001b[39;00m\u001b[38;5;21;01m.\u001b[39;00m\u001b[38;5;21;01mprotobuf\u001b[39;00m \u001b[38;5;28;01mimport\u001b[39;00m text_format\n\u001b[1;32m---> 21\u001b[0m \u001b[38;5;28;01mfrom\u001b[39;00m \u001b[38;5;21;01mobject_detection\u001b[39;00m\u001b[38;5;21;01m.\u001b[39;00m\u001b[38;5;21;01mprotos\u001b[39;00m \u001b[38;5;28;01mimport\u001b[39;00m string_int_label_map_pb2\n\u001b[0;32m     24\u001b[0m \u001b[38;5;28;01mdef\u001b[39;00m \u001b[38;5;21m_validate_label_map\u001b[39m(label_map):\n\u001b[0;32m     25\u001b[0m   \u001b[38;5;124;03m\"\"\"Checks if a label map is valid.\u001b[39;00m\n\u001b[0;32m     26\u001b[0m \n\u001b[0;32m     27\u001b[0m \u001b[38;5;124;03m  Args:\u001b[39;00m\n\u001b[1;32m   (...)\u001b[0m\n\u001b[0;32m     31\u001b[0m \u001b[38;5;124;03m    ValueError: if label map is invalid.\u001b[39;00m\n\u001b[0;32m     32\u001b[0m \u001b[38;5;124;03m  \"\"\"\u001b[39;00m\n",
      "\u001b[1;31mImportError\u001b[0m: cannot import name 'string_int_label_map_pb2' from 'object_detection.protos' (C:\\Users\\manik\\AppData\\Local\\Programs\\Python\\Python310\\lib\\site-packages\\object_detection\\protos\\__init__.py)"
     ]
    }
   ],
   "source": [
    "import os \n",
    "import cv2 \n",
    "import numpy as np \n",
    "import tensorflow as tf \n",
    "import sys\n",
    "\n",
    "gpu_options = tf.compat.v1.GPUOptions(per_process_gpu_memory_fraction=0.98)\n",
    "sess = tf.compat.v1.Session(config=tf.compat.v1.ConfigProto(gpu_options=gpu_options))\n",
    "\n",
    "  \n",
    "# Import utilites \n",
    "from object_detection.utils import label_map_util \n",
    "from object_detection.utils import visualization_utils as vis_util"
   ]
  },
  {
   "cell_type": "code",
   "execution_count": null,
   "id": "31c8a204",
   "metadata": {
    "scrolled": false
   },
   "outputs": [],
   "source": []
  },
  {
   "cell_type": "code",
   "execution_count": null,
   "id": "25613617",
   "metadata": {},
   "outputs": [],
   "source": [
    "# Name of the directory containing the object detection module we're using \n",
    "#MODEL_NAME = 'ssd_mobilenet_v1_coco_11_06_2017' # The path to the directory where frozen_inference_graph is stored. \n",
    "IMAGE_NAME = 'amb1.jpg'  # The path to the image in which the object has to be detected. !!!!!!!!!!!!!!!!!!!!!!!!!!!!!!!!!!!!!!!!!!!!!!!!!!!!!!!!!!!!!\n",
    "  \n",
    "# Grab path to current working directory \n",
    "CWD_PATH = os.getcwd() \n",
    "  \n",
    "# Path to frozen detection graph .pb file, which contains the model that is used \n",
    "# for object detection. \n",
    "PATH_TO_CKPT = 'frozen_inference_graph.pb'\n",
    "#PATH_TO_CKPT = 'frozen_inference_graph.pb'\n",
    "  \n",
    "# Path to label map file \n",
    "PATH_TO_LABELS = 'annotations/label_map.pbtxt'\n",
    "  \n",
    "# Path to image \n",
    "PATH_TO_IMAGE =  'amb1.jpg'#!!!!!!!!!!!!!!!!!!!!!!!!!!!!!!!!!!!!!!!!!!!!!!!!!!!!!!!!!!!!!!!!!!!!!!!!!!!!!!!!!!!!!!!!!!!!!!!!!!!!!!!!!!!!!!!!!!!!!!!!!!!!\n",
    "  \n",
    "# Number of classes the object detector can identify \n",
    "NUM_CLASSES = 1\n",
    "  \n",
    "# Load the label map. \n",
    "# Label maps map indices to category names, so that when our convolution \n",
    "# network predicts `5`, we know that this corresponds to `king`. \n",
    "# Here we use internal utility functions, but anything that returns a \n",
    "# dictionary mapping integers to appropriate string labels would be fine \n",
    "label_map = label_map_util.load_labelmap(PATH_TO_LABELS) \n",
    "categories = label_map_util.convert_label_map_to_categories( \n",
    "        label_map, max_num_classes = NUM_CLASSES, use_display_name = True) \n",
    "category_index = label_map_util.create_category_index(categories) \n",
    "  \n",
    "# Load the Tensorflow model into memory. \n",
    "detection_graph = tf.Graph() \n",
    "with detection_graph.as_default(): \n",
    "    od_graph_def = tf.compat.v1.GraphDef()\n",
    "    with tf.io.gfile.GFile(PATH_TO_CKPT, 'rb') as fid:\n",
    "        serialized_graph = fid.read() \n",
    "        od_graph_def.ParseFromString(serialized_graph) \n",
    "        tf.import_graph_def(od_graph_def, name ='') \n",
    "  \n",
    "    sess = tf.compat.v1.Session(graph = detection_graph)\n",
    "  \n",
    "# Define input and output tensors (i.e. data) for the object detection classifier \n",
    "  \n",
    "# Input tensor is the image \n",
    "image_tensor = detection_graph.get_tensor_by_name('image_tensor:0') \n",
    "  \n",
    "# Output tensors are the detection boxes, scores, and classes \n",
    "# Each box represents a part of the image where a particular object was detected \n",
    "detection_boxes = detection_graph.get_tensor_by_name('detection_boxes:0') \n",
    "  \n",
    "# Each score represents level of confidence for each of the objects. \n",
    "# The score is shown on the result image, together with the class label. \n",
    "detection_scores = detection_graph.get_tensor_by_name('detection_scores:0') \n",
    "detection_classes = detection_graph.get_tensor_by_name('detection_classes:0') \n",
    "  \n",
    "# Number of objects detected \n",
    "num_detections = detection_graph.get_tensor_by_name('num_detections:0') \n",
    "  \n",
    "# Load image using OpenCV and \n",
    "# expand image dimensions to have shape: [1, None, None, 3] \n",
    "# i.e. a single-column array, where each item in the column has the pixel RGB value\n",
    "#########################################################################################################\n",
    "\n",
    "\n",
    "#########################################################################################################\n",
    "image = cv2.imread(PATH_TO_IMAGE)\n",
    "image_expanded = np.expand_dims(image, axis = 0) \n",
    "  \n",
    "# Perform the actual detection by running the model with the image as input \n",
    "(boxes, scores, classes, num) = sess.run( \n",
    "    [detection_boxes, detection_scores, detection_classes, num_detections], \n",
    "    feed_dict ={image_tensor: image_expanded}) \n",
    "  \n",
    "# Draw the results of the detection (aka 'visualize the results') \n",
    "  \n",
    "vis_util.visualize_boxes_and_labels_on_image_array( \n",
    "    image, \n",
    "    np.squeeze(boxes), \n",
    "    np.squeeze(classes).astype(np.int32), \n",
    "    np.squeeze(scores), \n",
    "    category_index, \n",
    "    use_normalized_coordinates = True, \n",
    "    line_thickness = 2, \n",
    "    min_score_thresh = 0.95) \n",
    "  \n",
    "# All the results have been drawn on the image. Now display the image. \n",
    "cv2.imshow('Object detector', image)\n",
    "cv2.imwrite('objectdetection1.jpg', image) \n",
    "  \n",
    "# Press any key to close the image \n",
    "cv2.waitKey(0) \n",
    "  \n",
    "# Clean up \n",
    "cv2.destroyAllWindows()\n"
   ]
  }
 ],
 "metadata": {
  "kernelspec": {
   "display_name": "Python 3 (ipykernel)",
   "language": "python",
   "name": "python3"
  },
  "language_info": {
   "codemirror_mode": {
    "name": "ipython",
    "version": 3
   },
   "file_extension": ".py",
   "mimetype": "text/x-python",
   "name": "python",
   "nbconvert_exporter": "python",
   "pygments_lexer": "ipython3",
   "version": "3.10.8"
  },
  "vscode": {
   "interpreter": {
    "hash": "c217153c9b6e808fe803b77f885b86a8a344baf16a2d58368e420f51b61f7310"
   }
  }
 },
 "nbformat": 4,
 "nbformat_minor": 5
}
